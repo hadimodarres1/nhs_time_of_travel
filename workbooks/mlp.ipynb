{
 "cells": [
  {
   "cell_type": "code",
   "execution_count": null,
   "metadata": {},
   "outputs": [],
   "source": [
    "import requests\n",
    "from collections import defaultdict\n",
    "from geopy.geocoders import Nominatim\n",
    "\n",
    "geolocator = Nominatim(user_agent=\"my_app\")\n",
    "import pandas as pd\n",
    "import numpy as np\n",
    "import warnings\n",
    "import matplotlib.pyplot as plt\n",
    "from matplotlib import cm\n",
    "import networkx as nx\n",
    "import osmnx as ox\n",
    "import geopandas as gpd\n",
    "import networkx as nx\n",
    "from shapely.geometry.polygon import Point, Polygon\n",
    "from shapely.geometry import shape\n",
    "from shapely.ops import unary_union\n",
    "from shapely.geometry.multipolygon import MultiPolygon\n",
    "import folium\n",
    "import geopandas as gpd\n",
    "import math\n",
    "from geopy.distance import distance"
   ]
  },
  {
   "cell_type": "code",
   "execution_count": null,
   "metadata": {},
   "outputs": [],
   "source": [
    "lsoa_data = pd.read_csv(\"../data/lsoa_global_number_residents_2021.csv\")"
   ]
  },
  {
   "cell_type": "code",
   "execution_count": null,
   "metadata": {},
   "outputs": [],
   "source": [
    "lsoa_postcode = pd.read_csv(\"../data/pcd_lsoa21cd_nov22_en.csv\")\n",
    "lsoa_postcode.head(2)"
   ]
  },
  {
   "cell_type": "code",
   "execution_count": null,
   "metadata": {},
   "outputs": [],
   "source": [
    "lsoa_pop = pd.read_csv(\"../data/lsoa_global_number_residents_2021.csv\")\n",
    "lsoa_pop.head(3)"
   ]
  },
  {
   "cell_type": "code",
   "execution_count": null,
   "metadata": {},
   "outputs": [],
   "source": [
    "G = ox.graph_from_place(\"Cambridgeshire\", network_type=\"drive\")"
   ]
  },
  {
   "cell_type": "code",
   "execution_count": null,
   "metadata": {},
   "outputs": [],
   "source": [
    "gdf = gpd.read_file(\n",
    "    \"../data/LSOA_Dec_2021_Boundaries_Generalised_Clipped_EW_BGC_2022_5000101660793162025/LSOA_2021_EW_BGC.shp\"\n",
    ")\n",
    "gdf_cambs = gdf.query(\"LSOA21NM.str.contains('Cambridge')\")"
   ]
  },
  {
   "cell_type": "code",
   "execution_count": null,
   "metadata": {},
   "outputs": [],
   "source": [
    "gdf_c = gdf.query(\"LSOA21NM.str.contains('Cambridge')\")"
   ]
  },
  {
   "cell_type": "code",
   "execution_count": null,
   "metadata": {},
   "outputs": [],
   "source": [
    "len(gdf_c)"
   ]
  },
  {
   "cell_type": "code",
   "execution_count": null,
   "metadata": {},
   "outputs": [],
   "source": [
    "# set the CRS of the GeoDataFrame to British National Grid (EPSG:27700)\n",
    "gdf_cambs = gdf_cambs.set_crs(epsg=27700)\n",
    "\n",
    "# project the geometry to WGS84 (EPSG:4326)\n",
    "gdf_cambs = gdf_cambs.to_crs(epsg=4326)\n",
    "\n",
    "\n",
    "lsoa_codes = gdf_cambs[\"LSOA21CD\"].tolist()\n",
    "lsoa_data = {lsoa_code: {} for lsoa_code in lsoa_codes}"
   ]
  },
  {
   "cell_type": "code",
   "execution_count": null,
   "metadata": {},
   "outputs": [],
   "source": [
    "gdf_cambs"
   ]
  },
  {
   "cell_type": "code",
   "execution_count": null,
   "metadata": {},
   "outputs": [],
   "source": [
    "for index, row in gdf_cambs.iterrows():\n",
    "    lsoa_code = row[\"LSOA21CD\"]\n",
    "    if lsoa_code in lsoa_data:\n",
    "        lsoa_data[lsoa_code][\"Latitude\"] = row[\"geometry\"].centroid.y\n",
    "        lsoa_data[lsoa_code][\"Longitude\"] = row[\"geometry\"].centroid.x\n",
    "        node = ox.distance.nearest_nodes(\n",
    "            G, row[\"geometry\"].centroid.x, row[\"geometry\"].centroid.y\n",
    "        )\n",
    "        lsoa_data[lsoa_code][\"Node\"] = node"
   ]
  },
  {
   "cell_type": "code",
   "execution_count": null,
   "metadata": {},
   "outputs": [],
   "source": [
    "lsoa_population = {}\n",
    "for lsoa_code in lsoa_data:\n",
    "    population = lsoa_pop.loc[lsoa_pop[\"LSOA21CD\"] == lsoa_code, \"Population\"].iloc[0]\n",
    "    try:\n",
    "        latitude = lsoa_data[lsoa_code][\"Latitude\"]\n",
    "    except KeyError:\n",
    "        print(f\"KeyError: Latitude not found for LSOA code {lsoa_code}\")\n",
    "        latitude = None\n",
    "    try:\n",
    "        longitude = lsoa_data[lsoa_code][\"Longitude\"]\n",
    "    except KeyError:\n",
    "        print(f\"KeyError: Longitude not found for LSOA code {lsoa_code}\")\n",
    "        longitude = None\n",
    "    lsoa_population[lsoa_code] = {\n",
    "        \"Population\": population,\n",
    "        \"Latitude\": latitude,\n",
    "        \"Longitude\": longitude,\n",
    "    }"
   ]
  },
  {
   "cell_type": "code",
   "execution_count": null,
   "metadata": {},
   "outputs": [],
   "source": [
    "lsoa_population"
   ]
  },
  {
   "cell_type": "code",
   "execution_count": null,
   "metadata": {},
   "outputs": [],
   "source": [
    "address = \"184 Victoria Road, Cambridge, UK\"\n",
    "radius = 5000\n",
    "lsoa_data = lsoa_data\n",
    "G = G\n",
    "G = ox.add_edge_speeds(G)\n",
    "G = ox.add_edge_travel_times(G)\n",
    "# get_average_travel_times('184 Victoria Road, Cambridge, UK',5000,lsoa_data,G)"
   ]
  },
  {
   "cell_type": "code",
   "execution_count": null,
   "metadata": {},
   "outputs": [],
   "source": []
  },
  {
   "cell_type": "code",
   "execution_count": null,
   "metadata": {},
   "outputs": [],
   "source": []
  },
  {
   "cell_type": "code",
   "execution_count": null,
   "metadata": {},
   "outputs": [],
   "source": [
    "from geopy.geocoders import Nominatim\n",
    "import networkx as nx\n",
    "import osmnx as ox\n",
    "from haversine import haversine, Unit\n",
    "\n",
    "geolocator = Nominatim(user_agent=\"my_application\")\n",
    "location = Nominatim(user_agent=\"my_app\").geocode(address)\n",
    "origin = (location.latitude, location.longitude)\n",
    "\n",
    "\n",
    "def haversine_distance(origin, destination, speed=40):\n",
    "    distance_km = haversine(origin, destination, unit=\"km\")\n",
    "    time_sec = (distance_km / speed) * 3600\n",
    "    return time_sec\n",
    "\n",
    "\n",
    "# get LSOAs within search radius\n",
    "lsoas_in_radius = []\n",
    "for lsoa_code, data in lsoa_data.items():\n",
    "    if haversine_distance(origin, (data[\"Latitude\"], data[\"Longitude\"])) <= radius:\n",
    "        lsoas_in_radius.append(lsoa_code)\n",
    "\n",
    "# create a list of LSOA codes within search radius\n",
    "lsoa_codes_in_radius = [\n",
    "    lsoa for lsoa in lsoa_population.keys() if lsoa in lsoas_in_radius\n",
    "]"
   ]
  },
  {
   "cell_type": "code",
   "execution_count": null,
   "metadata": {},
   "outputs": [],
   "source": []
  },
  {
   "cell_type": "code",
   "execution_count": null,
   "metadata": {},
   "outputs": [],
   "source": [
    "from geopy.distance import great_circle\n",
    "\n",
    "\n",
    "def get_average_travel_times(address, radius, lsoa_population, G):\n",
    "    geolocator = Nominatim(user_agent=\"my_application\")\n",
    "    location = Nominatim(user_agent=\"my_app\").geocode(address)\n",
    "    origin = (location.latitude, location.longitude)\n",
    "\n",
    "    lsoas_in_radius = []\n",
    "\n",
    "    for lsoa_code, data in lsoa_population.items():\n",
    "        lsoa_coordinates = (data[\"Latitude\"], data[\"Longitude\"])\n",
    "        if great_circle(origin, lsoa_coordinates).km <= radius / 1000:\n",
    "            lsoas_in_radius.append(lsoa_code)\n",
    "\n",
    "    # calculate shortest paths from origin to LSOAs within search radius\n",
    "    travel_times = []\n",
    "    for lsoa_code in lsoas_in_radius:\n",
    "        destination = (\n",
    "            lsoa_population[lsoa_code][\"Latitude\"],\n",
    "            lsoa_population[lsoa_code][\"Longitude\"],\n",
    "        )\n",
    "        try:\n",
    "            route = nx.shortest_path(\n",
    "                G,\n",
    "                source=ox.distance.nearest_nodes(G, origin[1], origin[0]),\n",
    "                target=ox.distance.nearest_nodes(G, destination[1], destination[0]),\n",
    "                weight=\"travel_time\",\n",
    "            )\n",
    "            travel_time = sum(\n",
    "                [G[u][v][0][\"travel_time\"] for u, v in zip(route[:-1], route[1:])]\n",
    "            )\n",
    "            travel_times.append(travel_time)\n",
    "        except nx.NetworkXNoPath:\n",
    "            pass\n",
    "\n",
    "    # calculate average travel time and population within search radius\n",
    "    avg_travel_time = sum(travel_times) / len(travel_times) / 60\n",
    "    population_covered = sum(\n",
    "        [lsoa_population[lsoa][\"Population\"] for lsoa in lsoas_in_radius]\n",
    "    )\n",
    "\n",
    "    return avg_travel_time, population_covered"
   ]
  },
  {
   "cell_type": "code",
   "execution_count": null,
   "metadata": {},
   "outputs": [],
   "source": [
    "avg_travel_time, pop_covered = get_average_travel_times(\n",
    "    \"184 Victoria Road, Cambridge, UK\", 5000, lsoa_population, G\n",
    ")\n",
    "print(f\"Average travel time: {avg_travel_time} minutes\")\n",
    "print(f\"Population covered: {pop_covered}\")"
   ]
  },
  {
   "cell_type": "code",
   "execution_count": null,
   "metadata": {},
   "outputs": [],
   "source": [
    "total_population = sum([data[\"Population\"] for lsoa, data in lsoa_population.items()])\n",
    "total_population"
   ]
  },
  {
   "cell_type": "code",
   "execution_count": null,
   "metadata": {},
   "outputs": [],
   "source": []
  },
  {
   "cell_type": "code",
   "execution_count": null,
   "metadata": {},
   "outputs": [],
   "source": [
    "radius"
   ]
  },
  {
   "cell_type": "code",
   "execution_count": null,
   "metadata": {},
   "outputs": [],
   "source": [
    "len(lsoas_in_radius)"
   ]
  },
  {
   "cell_type": "code",
   "execution_count": null,
   "metadata": {},
   "outputs": [],
   "source": [
    "import folium\n",
    "\n",
    "location = ox.geocode(\"184 Victoria Road, Cambridge, UK\")\n",
    "\n",
    "m = folium.Map(location=location, zoom_start=12)\n",
    "folium.Marker(location=location, tooltip=\"Address\").add_to(m)\n",
    "folium.Circle(\n",
    "    location=location, radius=10000, color=\"red\", fill=False, tooltip=\"Search Radius\"\n",
    ").add_to(m)\n",
    "\n",
    "for lsoa_code in lsoas_in_radius:\n",
    "    row = gdf_cambs.loc[gdf_cambs[\"LSOA21CD\"] == lsoa_code].iloc[0]\n",
    "\n",
    "    if row[\"geometry\"].geom_type == \"Polygon\":\n",
    "        lsoa_boundary = [\n",
    "            tuple(reversed(coord)) for coord in list(row[\"geometry\"].exterior.coords)\n",
    "        ]\n",
    "    elif row[\"geometry\"].geom_type == \"MultiPolygon\":\n",
    "        largest_polygon = max(row[\"geometry\"], key=lambda x: x.area)\n",
    "        lsoa_boundary = [\n",
    "            tuple(reversed(coord)) for coord in list(largest_polygon.exterior.coords)\n",
    "        ]\n",
    "\n",
    "    lsoa_polygon = folium.Polygon(\n",
    "        locations=lsoa_boundary,\n",
    "        color=\"blue\",\n",
    "        fill=True,\n",
    "        fill_color=\"blue\",\n",
    "        fill_opacity=0.2,\n",
    "        tooltip=lsoa_code,\n",
    "    )\n",
    "\n",
    "    lsoa_polygon.add_to(m)\n",
    "\n",
    "\n",
    "m"
   ]
  },
  {
   "cell_type": "code",
   "execution_count": null,
   "metadata": {},
   "outputs": [],
   "source": [
    "print(f\"Average travel time: {avg_travel_time} minutes\")\n",
    "print(f\"Population covered: {pop_covered}\")"
   ]
  },
  {
   "cell_type": "code",
   "execution_count": null,
   "metadata": {},
   "outputs": [],
   "source": [
    "import folium\n",
    "\n",
    "location = ox.geocode(\"184 Victoria Road, Cambridge, UK\")\n",
    "m = folium.Map(location=location, zoom_start=12)\n",
    "folium.Marker(location=location, tooltip=\"Address\").add_to(m)\n",
    "folium.Circle(\n",
    "    location=location, radius=10000, color=\"red\", fill=False, tooltip=\"Search Radius\"\n",
    ").add_to(m)"
   ]
  },
  {
   "cell_type": "code",
   "execution_count": null,
   "metadata": {},
   "outputs": [],
   "source": [
    "for lsoa_code in lsoas_in_radius:\n",
    "    lsoa_data = lsoa_population[lsoa_code]\n",
    "    popup_text = f\"LSOA code: {lsoa_code}<br>Population: {lsoa_data['Population']}\"\n",
    "    folium.Marker(\n",
    "        location=[lsoa_data[\"Latitude\"], lsoa_data[\"Longitude\"]],\n",
    "        popup=popup_text,\n",
    "        tooltip=lsoa_data[\"Population\"],\n",
    "    ).add_to(m)\n",
    "\n",
    "# add LSOA boundaries to map\n",
    "folium.GeoJson(gdf_cambs[gdf_cambs[\"LSOA21CD\"].isin(lsoas_in_radius)]).add_to(m)"
   ]
  },
  {
   "cell_type": "code",
   "execution_count": null,
   "metadata": {},
   "outputs": [],
   "source": []
  },
  {
   "cell_type": "code",
   "execution_count": null,
   "metadata": {},
   "outputs": [],
   "source": [
    "m"
   ]
  },
  {
   "cell_type": "code",
   "execution_count": null,
   "metadata": {},
   "outputs": [],
   "source": [
    "# geocode address using Nominatim\n",
    "geolocator = Nominatim(user_agent=\"my_application\")\n",
    "location = Nominatim(user_agent=\"my_app\").geocode(address)\n",
    "origin = (location.latitude, location.longitude)\n",
    "# get LSOAs within search radius"
   ]
  },
  {
   "cell_type": "code",
   "execution_count": null,
   "metadata": {},
   "outputs": [],
   "source": [
    "lsoas_in_radius = []\n",
    "for lsoa_code, data in lsoa_population.items():\n",
    "    if distance(origin, (data[\"Latitude\"], data[\"Longitude\"])).km <= radius / 1000:\n",
    "        lsoas_in_radius.append(lsoa_code)\n",
    "# calculate shortest paths from origin to LSOAs within search radius"
   ]
  },
  {
   "cell_type": "code",
   "execution_count": null,
   "metadata": {},
   "outputs": [],
   "source": [
    "len(lsoa_population)"
   ]
  },
  {
   "cell_type": "code",
   "execution_count": null,
   "metadata": {},
   "outputs": [],
   "source": [
    "distance(origin, (data[\"Latitude\"], data[\"Longitude\"]))"
   ]
  },
  {
   "cell_type": "code",
   "execution_count": null,
   "metadata": {},
   "outputs": [],
   "source": [
    "lsoas_in_radius"
   ]
  },
  {
   "cell_type": "code",
   "execution_count": null,
   "metadata": {},
   "outputs": [],
   "source": [
    "travel_times = []\n",
    "for lsoa_code in lsoas_in_radius:\n",
    "    destination = (\n",
    "        lsoa_population[lsoa_code][\"Latitude\"],\n",
    "        lsoa_population[lsoa_code][\"Longitude\"],\n",
    "    )\n",
    "    try:\n",
    "        route = nx.shortest_path(\n",
    "            G,\n",
    "            source=ox.distance.nearest_nodes(G, origin[1], origin[0]),\n",
    "            target=ox.distance.nearest_nodes(G, destination[1], destination[0]),\n",
    "            weight=\"travel_time\",\n",
    "        )\n",
    "        travel_time = sum(\n",
    "            [G[u][v][0][\"travel_time\"] for u, v in zip(route[:-1], route[1:])]\n",
    "        )\n",
    "        travel_times.append(travel_time)\n",
    "    except nx.NetworkXNoPath:\n",
    "        pass"
   ]
  },
  {
   "cell_type": "code",
   "execution_count": null,
   "metadata": {},
   "outputs": [],
   "source": [
    "# calculate average travel time and population within search radius\n",
    "avg_travel_time = sum(travel_times) / len(travel_times) / 60\n",
    "population_covered = sum(\n",
    "    [lsoa_population[lsoa][\"Population\"] for lsoa in lsoas_in_radius]\n",
    ")"
   ]
  },
  {
   "cell_type": "code",
   "execution_count": null,
   "metadata": {},
   "outputs": [],
   "source": [
    "lsoas_and_populations = {\n",
    "    lsoa: lsoa_population[lsoa][\"Population\"] for lsoa in lsoas_in_radius\n",
    "}"
   ]
  },
  {
   "cell_type": "code",
   "execution_count": null,
   "metadata": {},
   "outputs": [],
   "source": [
    "lsoas_and_populations"
   ]
  },
  {
   "cell_type": "code",
   "execution_count": null,
   "metadata": {},
   "outputs": [],
   "source": [
    "population_covered = sum(\n",
    "    [lsoa_population[lsoa][\"Population\"] for lsoa in lsoas_in_radius]\n",
    ")"
   ]
  },
  {
   "cell_type": "code",
   "execution_count": null,
   "metadata": {},
   "outputs": [],
   "source": []
  },
  {
   "cell_type": "code",
   "execution_count": null,
   "metadata": {},
   "outputs": [],
   "source": []
  }
 ],
 "metadata": {
  "kernelspec": {
   "display_name": "geospat",
   "language": "python",
   "name": "python3"
  },
  "language_info": {
   "codemirror_mode": {
    "name": "ipython",
    "version": 3
   },
   "file_extension": ".py",
   "mimetype": "text/x-python",
   "name": "python",
   "nbconvert_exporter": "python",
   "pygments_lexer": "ipython3",
   "version": "3.10.8"
  },
  "orig_nbformat": 4,
  "vscode": {
   "interpreter": {
    "hash": "fc9ac9be5a40cd4c4a606f542570b983924ab9d7b7919bb083175ff587968918"
   }
  }
 },
 "nbformat": 4,
 "nbformat_minor": 2
}
